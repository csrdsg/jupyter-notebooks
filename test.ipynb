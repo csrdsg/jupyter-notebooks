import pandas as pd

d = {'col1': [1, 2], 'col2': [3, 4]}
pd.DataFrame(data=d)
